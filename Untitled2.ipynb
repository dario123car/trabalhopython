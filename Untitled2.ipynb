{
  "nbformat": 4,
  "nbformat_minor": 0,
  "metadata": {
    "colab": {
      "provenance": [],
      "collapsed_sections": [
        "_VBx3iVsAZz_",
        "ByhxReb7AaPO",
        "7ttUkVOWSgDq",
        "bjclh9h4T1iG",
        "QcY90yzQVssO",
        "Ajhr0X-XaUXL",
        "UlPEpZv6gblE",
        "Rnw99kGSicMq",
        "TJuZ6tIMjoFf",
        "s_Nv4GYKmvDR",
        "4GZrHjtFnoiN",
        "7-kS8kaDvteS",
        "ElWecY6UycRM",
        "rGhztGWs09lg",
        "-mezterE5ryL",
        "TbSpDTIE-wU4",
        "TcUoun3OdjCT",
        "Dq7v6MLqumSf",
        "RFJlHKapxc8Y",
        "YqWbNdqj1TxK",
        "dfRXbkLGL9n7",
        "Yr1Zf1NNoKTM",
        "ZOu9gJSMpG_z",
        "5FdjsfLVtVdt",
        "NSe0FACru3QU",
        "dm2DjGTRwlnu",
        "wxsvMH5Ly4Da",
        "4lNZGrPv8HIw",
        "Tp23uYOGMhe4",
        "nzbdTnu8OC_2",
        "Wr9bhjYt-Bsu",
        "H5De0KtNJugU"
      ],
      "toc_visible": true,
      "authorship_tag": "ABX9TyPzVuxUBmltrASdK4O68zaW",
      "include_colab_link": true
    },
    "kernelspec": {
      "name": "python3",
      "display_name": "Python 3"
    },
    "language_info": {
      "name": "python"
    }
  },
  "cells": [
    {
      "cell_type": "markdown",
      "metadata": {
        "id": "view-in-github",
        "colab_type": "text"
      },
      "source": [
        "<a href=\"https://colab.research.google.com/github/dario123car/trabalhopython/blob/main/Untitled2.ipynb\" target=\"_parent\"><img src=\"https://colab.research.google.com/assets/colab-badge.svg\" alt=\"Open In Colab\"/></a>"
      ]
    },
    {
      "cell_type": "code",
      "execution_count": null,
      "metadata": {
        "id": "J-afIOVJAYtf"
      },
      "outputs": [],
      "source": []
    },
    {
      "cell_type": "markdown",
      "source": [
        "# questao 1\n",
        "\n"
      ],
      "metadata": {
        "id": "_VBx3iVsAZz_"
      }
    },
    {
      "cell_type": "code",
      "source": [
        "\n",
        "print(\"Alunos - PLP Unifavip 2025.2\")"
      ],
      "metadata": {
        "colab": {
          "base_uri": "https://localhost:8080/"
        },
        "id": "U9LyzdgDAbb_",
        "outputId": "a79efd01-ab0e-444e-b146-810afa8c19c2"
      },
      "execution_count": null,
      "outputs": [
        {
          "output_type": "stream",
          "name": "stdout",
          "text": [
            "Alunos - PLP Unifavip 2025.2\n"
          ]
        }
      ]
    },
    {
      "cell_type": "markdown",
      "source": [
        "# questao 2"
      ],
      "metadata": {
        "id": "ByhxReb7AaPO"
      }
    },
    {
      "cell_type": "code",
      "source": [
        "  N = input('digite um numero')\n",
        "print('seu numero foi', N , )"
      ],
      "metadata": {
        "colab": {
          "base_uri": "https://localhost:8080/"
        },
        "id": "u5SFSIriAiGf",
        "outputId": "c174987a-8cb3-461a-b8b6-08765d0ec6b1"
      },
      "execution_count": null,
      "outputs": [
        {
          "output_type": "stream",
          "name": "stdout",
          "text": [
            "digite um numero10\n",
            "seu numero foi 10\n"
          ]
        }
      ]
    },
    {
      "cell_type": "markdown",
      "source": [
        "# questao 3\n",
        "\n"
      ],
      "metadata": {
        "id": "7ttUkVOWSgDq"
      }
    },
    {
      "cell_type": "code",
      "source": [
        "N = input(\"Escolha um numero \")\n",
        "M = input(\"Escolha um 2 numero \")\n",
        "R = int(N) + int(M)\n",
        "print(\"a soma da dos numeros e \",R)"
      ],
      "metadata": {
        "colab": {
          "base_uri": "https://localhost:8080/"
        },
        "id": "4nvPBZofStTF",
        "outputId": "65881e38-2efa-41ac-ff18-79009683757b"
      },
      "execution_count": null,
      "outputs": [
        {
          "output_type": "stream",
          "name": "stdout",
          "text": [
            "Escolha um numero 10\n",
            "Escolha um 2 numero 20\n",
            "a soma da dos numeros e  30\n"
          ]
        }
      ]
    },
    {
      "cell_type": "markdown",
      "source": [
        "# questao 4\n"
      ],
      "metadata": {
        "id": "bjclh9h4T1iG"
      }
    },
    {
      "cell_type": "code",
      "source": [
        "N1 = input(\"qual foi sua nota do 1 bimestre \")\n",
        "N2 = input(\"qual foi sua nota do 2 bimestre \")\n",
        "N3 = input(\"qual foi sua nota do 3 bimestre \")\n",
        "N4 = input(\"qual foi sua nota do 4 bimestre \")\n",
        "N = int(N1) + int(N2) + int(N3) + int(N4)\n",
        "R = N / 4\n",
        "print(\"sua media e de \",R)"
      ],
      "metadata": {
        "colab": {
          "base_uri": "https://localhost:8080/"
        },
        "id": "T8tURKA7T6QV",
        "outputId": "d391729e-f0e1-469b-fddd-7061ea40aecf"
      },
      "execution_count": null,
      "outputs": [
        {
          "output_type": "stream",
          "name": "stdout",
          "text": [
            "qual foi sua nota do 1 bimestre 20\n",
            "qual foi sua nota do 2 bimestre 30\n",
            "qual foi sua nota do 3 bimestre 20\n",
            "qual foi sua nota do 4 bimestre 50\n",
            "sua media e de  30.0\n"
          ]
        }
      ]
    },
    {
      "cell_type": "markdown",
      "source": [
        "# questao 5"
      ],
      "metadata": {
        "id": "QcY90yzQVssO"
      }
    },
    {
      "cell_type": "code",
      "source": [
        "M = input(\"quantos metros deseja converte \")\n",
        "c = int(M) * 100\n",
        "print(\"a quantidade de \", M ,\"m em centimetros e de \", c,\"cm\")"
      ],
      "metadata": {
        "colab": {
          "base_uri": "https://localhost:8080/"
        },
        "id": "w4AAiz6cVwlW",
        "outputId": "7aa45b20-cd74-4fca-fb62-fc9c1d6ab061"
      },
      "execution_count": null,
      "outputs": [
        {
          "output_type": "stream",
          "name": "stdout",
          "text": [
            "quantos metros deseja converte 8\n",
            "a quantidade de  8 m em centimetros e de  800 cm\n"
          ]
        }
      ]
    },
    {
      "cell_type": "markdown",
      "source": [
        "# questao 6"
      ],
      "metadata": {
        "id": "Ajhr0X-XaUXL"
      }
    },
    {
      "cell_type": "code",
      "source": [
        "\n",
        "R = input(\"qual o raio do seu circulo\")\n",
        "A = float(R)**2 * 3.14\n",
        "print(\"sua area e de \",A)"
      ],
      "metadata": {
        "colab": {
          "base_uri": "https://localhost:8080/"
        },
        "id": "OrW3cjmaflzL",
        "outputId": "f9bb375b-1550-4e25-9531-e719b4369809"
      },
      "execution_count": null,
      "outputs": [
        {
          "output_type": "stream",
          "name": "stdout",
          "text": [
            "qual o raio do seu circulo5\n",
            "sua area e de  78.5\n"
          ]
        }
      ]
    },
    {
      "cell_type": "markdown",
      "source": [
        "# questao 7\n"
      ],
      "metadata": {
        "id": "UlPEpZv6gblE"
      }
    },
    {
      "cell_type": "code",
      "source": [
        "\n",
        "L = input(\"qual e o valor de um dos lado do seu quadrado \")\n",
        "A = float(L)** 2 *2\n",
        "print(\"o valor da area do seu quadrado vezes 2 e de  \",A)"
      ],
      "metadata": {
        "id": "Y2oHKA5Pj-CX"
      },
      "execution_count": null,
      "outputs": []
    },
    {
      "cell_type": "markdown",
      "source": [
        "# questao 8"
      ],
      "metadata": {
        "id": "Rnw99kGSicMq"
      }
    },
    {
      "cell_type": "code",
      "source": [
        "V = input(\"qual e o valor da sua hora trabalhada \")\n",
        "H = input(\"quantas horas voce trabalhou nesse mes \")\n",
        "R = float(V) * float(H)\n",
        "print(\"seu salario esse mes e de \", R)"
      ],
      "metadata": {
        "colab": {
          "base_uri": "https://localhost:8080/"
        },
        "id": "ITFeeAFXivIU",
        "outputId": "e2dbee65-acc1-4aec-9ed9-2fa951854fdf"
      },
      "execution_count": null,
      "outputs": [
        {
          "output_type": "stream",
          "name": "stdout",
          "text": [
            "qual e o valor da sua hora trabalhada 10\n",
            "quantas horas voce trabalhou nesse mes 300\n",
            "seu salario esse mes e de  3000.0\n"
          ]
        }
      ]
    },
    {
      "cell_type": "markdown",
      "source": [
        "# questao 9\n"
      ],
      "metadata": {
        "id": "TJuZ6tIMjoFf"
      }
    },
    {
      "cell_type": "code",
      "source": [
        "T = float(input(\"qual e a temperatura da sua cidade em Fahrenheit \"))\n",
        "C =   (T-32) / 1.8\n",
        "print(\"a temperatura em celsius e de \",C)"
      ],
      "metadata": {
        "colab": {
          "base_uri": "https://localhost:8080/"
        },
        "id": "E3J_uwr2j1Zz",
        "outputId": "1d279fc4-dfb6-4282-8646-9240d8727982"
      },
      "execution_count": null,
      "outputs": [
        {
          "output_type": "stream",
          "name": "stdout",
          "text": [
            "qual e a temperatura da sua cidade em Fahrenhei 100\n",
            "a temperatura em celsius e de  37.77777777777778\n"
          ]
        }
      ]
    },
    {
      "cell_type": "markdown",
      "source": [
        "# questao 10"
      ],
      "metadata": {
        "id": "s_Nv4GYKmvDR"
      }
    },
    {
      "cell_type": "code",
      "source": [
        "T = float(input(\"qual e a temperatura da sua cidade em celsius \"))\n",
        "F = (T * 1.8) + 32\n",
        "print(\"a temperatura em  e de Fahrenheit \",F)"
      ],
      "metadata": {
        "colab": {
          "base_uri": "https://localhost:8080/"
        },
        "id": "81bsNPnImvuI",
        "outputId": "8f10d15c-e5e8-43fc-813d-ad3d9fae81a6"
      },
      "execution_count": null,
      "outputs": [
        {
          "output_type": "stream",
          "name": "stdout",
          "text": [
            "qual e a temperatura da sua cidade em celsius 37.7\n",
            "a temperatura em  e de Fahrenheit  99.86000000000001\n"
          ]
        }
      ]
    },
    {
      "cell_type": "markdown",
      "source": [
        "# questao 11"
      ],
      "metadata": {
        "id": "4GZrHjtFnoiN"
      }
    },
    {
      "cell_type": "code",
      "source": [
        "I = float(input(\"escolha um numero inteiro \"))\n",
        "N = float(input(\"escolha um 2 numero inteiro \"))\n",
        "R = float(input(\"escolha um numero real \"))\n",
        "\n"
      ],
      "metadata": {
        "colab": {
          "base_uri": "https://localhost:8080/"
        },
        "id": "VTL99gJInsga",
        "outputId": "7f824adf-fe24-4d17-bf57-c4c9158d47ee"
      },
      "execution_count": null,
      "outputs": [
        {
          "name": "stdout",
          "output_type": "stream",
          "text": [
            "escolha um numero inteiro 2\n",
            "escolha um 2 numero inteiro 2\n",
            "escolha um numero real 2\n"
          ]
        }
      ]
    },
    {
      "cell_type": "code",
      "source": [
        "V = (I * 2) * (N / 2)\n",
        "print(V)\n"
      ],
      "metadata": {
        "colab": {
          "base_uri": "https://localhost:8080/"
        },
        "id": "KLUFS-U6tkEI",
        "outputId": "b8da969b-3901-4ba8-eeb4-5cd8b25e0b53"
      },
      "execution_count": null,
      "outputs": [
        {
          "output_type": "stream",
          "name": "stdout",
          "text": [
            "600.0\n"
          ]
        }
      ]
    },
    {
      "cell_type": "code",
      "source": [
        "V = (I * 3) + (R)\n",
        "print(V)"
      ],
      "metadata": {
        "colab": {
          "base_uri": "https://localhost:8080/"
        },
        "id": "oIO6D-EVuTIT",
        "outputId": "66384f76-7978-4432-cb05-fee5d7128340"
      },
      "execution_count": null,
      "outputs": [
        {
          "output_type": "stream",
          "name": "stdout",
          "text": [
            "74.5\n"
          ]
        }
      ]
    },
    {
      "cell_type": "code",
      "source": [
        "V = (R**3)\n",
        "print(V)"
      ],
      "metadata": {
        "colab": {
          "base_uri": "https://localhost:8080/"
        },
        "id": "0kcIInd_vOtH",
        "outputId": "02806591-a6b7-41ee-f93f-49501deffd5d"
      },
      "execution_count": null,
      "outputs": [
        {
          "output_type": "stream",
          "name": "stdout",
          "text": [
            "8.0\n"
          ]
        }
      ]
    },
    {
      "cell_type": "markdown",
      "source": [
        "# questao 12"
      ],
      "metadata": {
        "id": "7-kS8kaDvteS"
      }
    },
    {
      "cell_type": "code",
      "source": [
        "H = float(input(\"qual o sua altura \"))\n",
        "P = (72.7*H) - 58\n",
        "print(\"seu peso ideal e \",round(P,2))"
      ],
      "metadata": {
        "colab": {
          "base_uri": "https://localhost:8080/"
        },
        "id": "8A4dvi7Tvx78",
        "outputId": "1b222507-de74-44df-8c5e-63d1c63ee163"
      },
      "execution_count": null,
      "outputs": [
        {
          "output_type": "stream",
          "name": "stdout",
          "text": [
            "qual o sua altura 20\n",
            "seu peso ideal e  1396.0\n"
          ]
        }
      ]
    },
    {
      "cell_type": "markdown",
      "source": [
        "# questao 13\n"
      ],
      "metadata": {
        "id": "ElWecY6UycRM"
      }
    },
    {
      "cell_type": "code",
      "source": [
        "H = float(input(\"diga qual e a sua altura  \"))\n",
        "\n"
      ],
      "metadata": {
        "colab": {
          "base_uri": "https://localhost:8080/"
        },
        "id": "euT702GMyfaR",
        "outputId": "4a1624ad-cd35-4107-d278-07b5f0ddc540"
      },
      "execution_count": null,
      "outputs": [
        {
          "name": "stdout",
          "output_type": "stream",
          "text": [
            "diga qual e a sua altura  1.63\n"
          ]
        }
      ]
    },
    {
      "cell_type": "code",
      "source": [
        "P = (72.7*H) - 58\n",
        "print(\"o peso que deve ter e  \",round(P,2))"
      ],
      "metadata": {
        "colab": {
          "base_uri": "https://localhost:8080/"
        },
        "id": "o0u1miG90SQF",
        "outputId": "f478f153-d008-4115-8698-04bd90c03347"
      },
      "execution_count": null,
      "outputs": [
        {
          "output_type": "stream",
          "name": "stdout",
          "text": [
            "o peso que deve ter e   69.23\n"
          ]
        }
      ]
    },
    {
      "cell_type": "code",
      "source": [
        "P = (62.1*H) - 44.7\n",
        "print(\"o peso que deve ter e  \",round(P,2))"
      ],
      "metadata": {
        "colab": {
          "base_uri": "https://localhost:8080/"
        },
        "id": "mB4pjopj0oVC",
        "outputId": "eeb3a495-4a1d-4db9-d67f-e117a144b3f1"
      },
      "execution_count": null,
      "outputs": [
        {
          "output_type": "stream",
          "name": "stdout",
          "text": [
            "o peso que deve ter e   56.52\n"
          ]
        }
      ]
    },
    {
      "cell_type": "markdown",
      "source": [
        "# questao 14"
      ],
      "metadata": {
        "id": "rGhztGWs09lg"
      }
    },
    {
      "cell_type": "code",
      "source": [
        "P = float(input(\"qual o peso do peixe que voce pegou \"))\n",
        "L = 50\n",
        "V_multa = 4.0\n"
      ],
      "metadata": {
        "colab": {
          "base_uri": "https://localhost:8080/"
        },
        "id": "FihIcgBF2XCY",
        "outputId": "27281ce1-5c31-4ef4-cd22-a6ea5ce7d5ae"
      },
      "execution_count": null,
      "outputs": [
        {
          "name": "stdout",
          "output_type": "stream",
          "text": [
            "qual o peso do peixe que voce pegou 50\n"
          ]
        }
      ]
    },
    {
      "cell_type": "code",
      "source": [
        "if P > L:\n",
        "  E = P - L\n",
        "  M = E * V_multa\n",
        "else:\n",
        "  E = 0\n",
        "  M = 0\n",
        "print(M)\n"
      ],
      "metadata": {
        "colab": {
          "base_uri": "https://localhost:8080/"
        },
        "id": "zUy9u3Jd4Ei7",
        "outputId": "67325e10-c050-4960-ad3d-e542f49184ea"
      },
      "execution_count": null,
      "outputs": [
        {
          "output_type": "stream",
          "name": "stdout",
          "text": [
            "0\n"
          ]
        }
      ]
    },
    {
      "cell_type": "markdown",
      "source": [
        "# questao 15\n"
      ],
      "metadata": {
        "id": "-mezterE5ryL"
      }
    },
    {
      "cell_type": "code",
      "source": [
        "H = float(input(\"quanto voce ganha por hora \"))\n",
        "H_traba = float(input(\"quantas horas voce trabalhou esse mes\"))\n",
        "total = H * H_traba\n",
        "print(\"seu salario bruto foi de \", total)\n"
      ],
      "metadata": {
        "colab": {
          "base_uri": "https://localhost:8080/"
        },
        "id": "1009ZgbT50Pj",
        "outputId": "6407797c-02db-4675-88f2-5f41710b5c6b"
      },
      "execution_count": null,
      "outputs": [
        {
          "output_type": "stream",
          "name": "stdout",
          "text": [
            "quanto voce ganha por hora 50\n",
            "quantas horas voce trabalhou esse mes160\n",
            "seu salario bruto foi de  8000.0\n"
          ]
        }
      ]
    },
    {
      "cell_type": "code",
      "source": [
        "inss = total * 0.08\n",
        "print(inss)"
      ],
      "metadata": {
        "colab": {
          "base_uri": "https://localhost:8080/"
        },
        "id": "Zn_pSHjm7xji",
        "outputId": "1eb1ac6a-2adf-45c9-a46c-69bceeeaaef0"
      },
      "execution_count": null,
      "outputs": [
        {
          "output_type": "stream",
          "name": "stdout",
          "text": [
            "640.0\n"
          ]
        }
      ]
    },
    {
      "cell_type": "code",
      "source": [
        "sind = total * 0.05\n",
        "print(sind)"
      ],
      "metadata": {
        "colab": {
          "base_uri": "https://localhost:8080/"
        },
        "id": "ifxV-TUl8OdX",
        "outputId": "d88a1727-3f2b-4748-ffa1-132ad579b6bc"
      },
      "execution_count": null,
      "outputs": [
        {
          "output_type": "stream",
          "name": "stdout",
          "text": [
            "400.0\n"
          ]
        }
      ]
    },
    {
      "cell_type": "code",
      "source": [
        "IR = total *0.11\n"
      ],
      "metadata": {
        "id": "DMmPvcim-VoQ"
      },
      "execution_count": null,
      "outputs": []
    },
    {
      "cell_type": "code",
      "source": [
        "salario_l = total - inss - sind - IR\n",
        "print(salario_l)"
      ],
      "metadata": {
        "colab": {
          "base_uri": "https://localhost:8080/"
        },
        "id": "IDuyn-hU9Rfj",
        "outputId": "4f39a073-882f-44bc-b2eb-e5890211d7d2"
      },
      "execution_count": null,
      "outputs": [
        {
          "output_type": "stream",
          "name": "stdout",
          "text": [
            "6080.0\n"
          ]
        }
      ]
    },
    {
      "cell_type": "code",
      "source": [
        "salario_l = total - inss - sind - IR\n",
        "print(salario_l)"
      ],
      "metadata": {
        "colab": {
          "base_uri": "https://localhost:8080/"
        },
        "id": "3SSF7WtK9jC1",
        "outputId": "52751206-a1dd-467c-aea7-4e740b9eb104"
      },
      "execution_count": null,
      "outputs": [
        {
          "output_type": "stream",
          "name": "stdout",
          "text": [
            "6080.0\n"
          ]
        }
      ]
    },
    {
      "cell_type": "markdown",
      "source": [
        "# questao 16\n"
      ],
      "metadata": {
        "id": "TbSpDTIE-wU4"
      }
    },
    {
      "cell_type": "code",
      "source": [
        "A = float(input(\"qual a area a ser pintada \"))\n",
        "LATA = 18\n",
        "a_CORB = 3\n",
        "v = 80\n",
        "\n"
      ],
      "metadata": {
        "colab": {
          "base_uri": "https://localhost:8080/"
        },
        "id": "JRyiWAbJ-y_j",
        "outputId": "b5270f97-a7af-4fed-a3fc-1d8faccfcbeb"
      },
      "execution_count": null,
      "outputs": [
        {
          "name": "stdout",
          "output_type": "stream",
          "text": [
            "qual a area a ser pintada 250\n"
          ]
        }
      ]
    },
    {
      "cell_type": "code",
      "source": [
        "import math\n",
        "total = A / a_CORB\n",
        "latas = total / LATA\n",
        "latas_arredondadas = math.ceil(latas)\n",
        "pagar = latas_arredondadas * v\n",
        "print(\"voce deve comprar\", latas_arredondadas, \"latas no valor final de \", pagar)"
      ],
      "metadata": {
        "colab": {
          "base_uri": "https://localhost:8080/"
        },
        "id": "QoOX4FfRAggg",
        "outputId": "7e4888e7-7ccf-4233-d46c-36ffc7488861"
      },
      "execution_count": null,
      "outputs": [
        {
          "output_type": "stream",
          "name": "stdout",
          "text": [
            "voce deve comprar 5 latas no valor final de  400\n"
          ]
        }
      ]
    },
    {
      "cell_type": "markdown",
      "source": [
        "# questao 17\n"
      ],
      "metadata": {
        "id": "TcUoun3OdjCT"
      }
    },
    {
      "cell_type": "code",
      "source": [
        "import math\n",
        "area = float(input(\"qual area ira ser pintada \"))\n",
        "corbe = 6\n",
        "L_latao = 18\n",
        "L_galao = 3.6\n",
        "V_latao = 80\n",
        "V_galao = 25\n",
        "\n",
        "litros = area / corbe\n",
        "latas =  litros / L_latao\n",
        "galoes =  litros / L_galao\n",
        "galoes_arredondados =  math.ceil(galoes)\n",
        "latas_arredondados =  math.ceil(latas)\n",
        "print(\"voce deve ter no minimo \", latas_arredondados, \"o preço depende das seguites opçoes\" )\n",
        "\n"
      ],
      "metadata": {
        "colab": {
          "base_uri": "https://localhost:8080/"
        },
        "id": "eceQIVKfdm26",
        "outputId": "e2e439cf-81c7-48a1-eb7b-c0adbdaea80c"
      },
      "execution_count": null,
      "outputs": [
        {
          "output_type": "stream",
          "name": "stdout",
          "text": [
            "qual area ira ser pintada 180\n",
            "voce deve ter no minimo  2 o preço depende das seguites opçoes\n"
          ]
        }
      ]
    },
    {
      "cell_type": "code",
      "source": [
        "pagar = latas_arredondadas * V_latao\n",
        "print(\"voce deve comprar\", latas_arredondadas, \"latas no valor final de \", pagar)"
      ],
      "metadata": {
        "colab": {
          "base_uri": "https://localhost:8080/"
        },
        "id": "6kmDJd5rmaw0",
        "outputId": "cc1f2352-0773-4c4a-9498-fd51313cda12"
      },
      "execution_count": null,
      "outputs": [
        {
          "output_type": "stream",
          "name": "stdout",
          "text": [
            "voce deve comprar 1 latas no valor final de  80\n"
          ]
        }
      ]
    },
    {
      "cell_type": "code",
      "source": [
        "pagar = galoes_arredondados * V_galao\n",
        "print(\"voce deve comprar\", galoes_arredondados, \"galoes no valor final de \", pagar)"
      ],
      "metadata": {
        "colab": {
          "base_uri": "https://localhost:8080/"
        },
        "id": "S6tOlk3dmtgD",
        "outputId": "3363617a-8c9d-4cc9-955b-ed7fdcc241af"
      },
      "execution_count": null,
      "outputs": [
        {
          "output_type": "stream",
          "name": "stdout",
          "text": [
            "voce deve comprar 3 latas no valor final de  75\n"
          ]
        }
      ]
    },
    {
      "cell_type": "code",
      "source": [
        "litros = litros * 1.1\n",
        "latas =  litros / L_latao\n",
        "galoes =  litros / L_galao\n",
        "galoes_arredondados =  math.ceil(galoes)\n",
        "latas_arredondados =  math.ceil(latas)\n",
        "print(latas_arredondadas)\n",
        "\n"
      ],
      "metadata": {
        "colab": {
          "base_uri": "https://localhost:8080/"
        },
        "id": "53nEzc99m42s",
        "outputId": "b26b36f8-2532-4682-b87d-2c14a386d493"
      },
      "execution_count": null,
      "outputs": [
        {
          "output_type": "stream",
          "name": "stdout",
          "text": [
            "1\n"
          ]
        }
      ]
    },
    {
      "cell_type": "code",
      "source": [
        "num_latas_mix = math.floor(litros / L_latao)\n",
        "litros_restantes_mix = litros - (num_latas_mix *  L_latao)\n",
        "num_galoes_mix = math.ceil(litros_restantes_mix / L_galao)\n",
        "custo_mix = (num_latas_mix * V_latao) + (num_galoes_mix * V_galao)\n",
        "print(\"voce vai gastar na mistura \", custo_mix)"
      ],
      "metadata": {
        "colab": {
          "base_uri": "https://localhost:8080/"
        },
        "id": "rMLSFrXXtUcZ",
        "outputId": "73c1382e-4221-49f6-a774-f031e2ca7249"
      },
      "execution_count": null,
      "outputs": [
        {
          "output_type": "stream",
          "name": "stdout",
          "text": [
            "voce vai gastar na mistura  205\n"
          ]
        }
      ]
    },
    {
      "cell_type": "markdown",
      "source": [
        "# questao 18"
      ],
      "metadata": {
        "id": "Dq7v6MLqumSf"
      }
    },
    {
      "cell_type": "code",
      "source": [
        "mp = float(input(\"qual o tamanho do aquirvo que deseja baixar em MP \"))\n",
        "vel = float(input(\"qual a velocidade da sua internet em Mbps\"))\n",
        "V = mp * 8\n",
        "tempo = V / vel\n",
        "tempo = tempo / 60\n",
        "round(tempo,2)\n",
        "print(\"vai demora um total de \", round(tempo,2) ,\"minutos para concluir o download\")\n"
      ],
      "metadata": {
        "colab": {
          "base_uri": "https://localhost:8080/"
        },
        "id": "c8umm1MKuusx",
        "outputId": "fa66889c-98cb-4f03-edf4-e2a2f2c2d0b7"
      },
      "execution_count": null,
      "outputs": [
        {
          "output_type": "stream",
          "name": "stdout",
          "text": [
            "qual o tamanho do aquirvo que deseja baixar em MP 2000\n",
            "qual a velocidade da sua internet em Mbps20\n",
            "vai demora um total de  13.33 minutos para concluir o download\n"
          ]
        }
      ]
    },
    {
      "cell_type": "markdown",
      "source": [
        "# questao 19"
      ],
      "metadata": {
        "id": "RFJlHKapxc8Y"
      }
    },
    {
      "cell_type": "code",
      "source": [
        "vetor = []\n",
        "N = int(input(\"quantos numeros voce quer colocar na lista\"))\n",
        "for i in range(N):\n",
        "    N = int(input(f\"Digite o {i+1}º número: \"))\n",
        "    vetor.append(N)\n"
      ],
      "metadata": {
        "colab": {
          "base_uri": "https://localhost:8080/"
        },
        "id": "DPbPbMpSxgIV",
        "outputId": "84a92991-0527-4bed-f7c5-efc173f0cefc"
      },
      "execution_count": null,
      "outputs": [
        {
          "name": "stdout",
          "output_type": "stream",
          "text": [
            "quantos numeros voce quer colocar na lista5\n",
            "Digite o 1º número: 8\n",
            "Digite o 2º número: 7\n",
            "Digite o 3º número: 4\n",
            "Digite o 4º número: 6\n",
            "Digite o 5º número: 5\n"
          ]
        }
      ]
    },
    {
      "cell_type": "code",
      "source": [
        "pesquisa = int(input(\"qual numero deseja pesquisar \"))\n",
        "if pesquisa in vetor:\n",
        "    posicao = vetor.index(pesquisa)\n",
        "    print(f\"o numero {pesquisa} foi encontrada na posiçao {posicao}\")\n",
        "else:\n",
        "    print(f\"o numero {pesquisa} nao existe na lista\")"
      ],
      "metadata": {
        "colab": {
          "base_uri": "https://localhost:8080/"
        },
        "id": "PZ6RlSWY1HQn",
        "outputId": "1f998810-c5e6-4086-ace7-4e1db5955745"
      },
      "execution_count": null,
      "outputs": [
        {
          "output_type": "stream",
          "name": "stdout",
          "text": [
            "qual numero deseja pesquisar 5\n",
            "o numero 5 foi encontrada na posiçao 4\n"
          ]
        }
      ]
    },
    {
      "cell_type": "markdown",
      "source": [
        "# questao 20"
      ],
      "metadata": {
        "id": "YqWbNdqj1TxK"
      }
    },
    {
      "cell_type": "code",
      "source": [
        "gabarito=(\n",
        "    'A','E','D','C','B',\n",
        "    'A','B','C','A','C',\n",
        "    'B','A','B','A','B',\n",
        "    'C','E','C','E','C',\n",
        "    )\n",
        "\n",
        "print(\"programa  de correçao de provas\")\n",
        "\n",
        "nome_aluno = input(\"Digite o nome do aluno: \")\n",
        "print(f\"\\ resposta do  {nome_aluno} \")\n",
        "\n",
        "while True:\n",
        "\n",
        "  R_aluno=[]\n",
        "  print(f\"\\nDigite as respostas do {nome_aluno} (20 questões - A, B, C, D ou E):\")\n",
        "  for i in range(20):\n",
        "    Resultado=input(f\"Resposta da {i+1} questao: \").upper()\n",
        "    R_aluno.append(Resultado)\n",
        "    while Resultado not in [\"A\", \"B\", \"C\", \"D\", \"E\"]:\n",
        "      Resultado=input('Responda apenas com as Letras solicitadas! ').upper()\n",
        "\n",
        "  Acert=0\n",
        "  for i in range(20):\n",
        "   if R_aluno[i]==gabarito[i]:\n",
        "       Acert += 1\n",
        "  p=(Acert/20)*100\n",
        "  print(f'\\nacertos do aluno {Acert}/20')\n",
        "\n",
        "  if p >=60:\n",
        "    print('aluno passou')\n",
        "  else:\n",
        "    print('Aluno reprovou')\n",
        "\n",
        "  continuar = input(\"\\ndeseja colocar outro aluno? (S/N): \").strip().upper()\n",
        "  if continuar != \"S\":\n",
        "      print(\"\\nprograma encerrado.\")\n",
        "      break"
      ],
      "metadata": {
        "colab": {
          "base_uri": "https://localhost:8080/",
          "height": 443
        },
        "id": "lyB_0Rdpc9ts",
        "outputId": "6045a93a-de13-47f2-fe7f-fff5966fe2ac"
      },
      "execution_count": null,
      "outputs": [
        {
          "output_type": "stream",
          "name": "stderr",
          "text": [
            "<>:11: SyntaxWarning: invalid escape sequence '\\ '\n",
            "<>:11: SyntaxWarning: invalid escape sequence '\\ '\n",
            "/tmp/ipython-input-3887679319.py:11: SyntaxWarning: invalid escape sequence '\\ '\n",
            "  print(f\"\\ resposta do  {nome_aluno} \")\n"
          ]
        },
        {
          "output_type": "stream",
          "name": "stdout",
          "text": [
            "programa  de correçao de provas\n"
          ]
        },
        {
          "output_type": "error",
          "ename": "KeyboardInterrupt",
          "evalue": "Interrupted by user",
          "traceback": [
            "\u001b[0;31m---------------------------------------------------------------------------\u001b[0m",
            "\u001b[0;31mKeyboardInterrupt\u001b[0m                         Traceback (most recent call last)",
            "\u001b[0;32m/tmp/ipython-input-3887679319.py\u001b[0m in \u001b[0;36m<cell line: 0>\u001b[0;34m()\u001b[0m\n\u001b[1;32m      8\u001b[0m \u001b[0mprint\u001b[0m\u001b[0;34m(\u001b[0m\u001b[0;34m\"programa  de correçao de provas\"\u001b[0m\u001b[0;34m)\u001b[0m\u001b[0;34m\u001b[0m\u001b[0;34m\u001b[0m\u001b[0m\n\u001b[1;32m      9\u001b[0m \u001b[0;34m\u001b[0m\u001b[0m\n\u001b[0;32m---> 10\u001b[0;31m \u001b[0mnome_aluno\u001b[0m \u001b[0;34m=\u001b[0m \u001b[0minput\u001b[0m\u001b[0;34m(\u001b[0m\u001b[0;34m\"Digite o nome do aluno: \"\u001b[0m\u001b[0;34m)\u001b[0m\u001b[0;34m\u001b[0m\u001b[0;34m\u001b[0m\u001b[0m\n\u001b[0m\u001b[1;32m     11\u001b[0m \u001b[0mprint\u001b[0m\u001b[0;34m(\u001b[0m\u001b[0;34mf\"\\ resposta do  {nome_aluno} \"\u001b[0m\u001b[0;34m)\u001b[0m\u001b[0;34m\u001b[0m\u001b[0;34m\u001b[0m\u001b[0m\n\u001b[1;32m     12\u001b[0m \u001b[0;34m\u001b[0m\u001b[0m\n",
            "\u001b[0;32m/usr/local/lib/python3.12/dist-packages/ipykernel/kernelbase.py\u001b[0m in \u001b[0;36mraw_input\u001b[0;34m(self, prompt)\u001b[0m\n\u001b[1;32m   1175\u001b[0m                 \u001b[0;34m\"raw_input was called, but this frontend does not support input requests.\"\u001b[0m\u001b[0;34m\u001b[0m\u001b[0;34m\u001b[0m\u001b[0m\n\u001b[1;32m   1176\u001b[0m             )\n\u001b[0;32m-> 1177\u001b[0;31m         return self._input_request(\n\u001b[0m\u001b[1;32m   1178\u001b[0m             \u001b[0mstr\u001b[0m\u001b[0;34m(\u001b[0m\u001b[0mprompt\u001b[0m\u001b[0;34m)\u001b[0m\u001b[0;34m,\u001b[0m\u001b[0;34m\u001b[0m\u001b[0;34m\u001b[0m\u001b[0m\n\u001b[1;32m   1179\u001b[0m             \u001b[0mself\u001b[0m\u001b[0;34m.\u001b[0m\u001b[0m_parent_ident\u001b[0m\u001b[0;34m[\u001b[0m\u001b[0;34m\"shell\"\u001b[0m\u001b[0;34m]\u001b[0m\u001b[0;34m,\u001b[0m\u001b[0;34m\u001b[0m\u001b[0;34m\u001b[0m\u001b[0m\n",
            "\u001b[0;32m/usr/local/lib/python3.12/dist-packages/ipykernel/kernelbase.py\u001b[0m in \u001b[0;36m_input_request\u001b[0;34m(self, prompt, ident, parent, password)\u001b[0m\n\u001b[1;32m   1217\u001b[0m             \u001b[0;32mexcept\u001b[0m \u001b[0mKeyboardInterrupt\u001b[0m\u001b[0;34m:\u001b[0m\u001b[0;34m\u001b[0m\u001b[0;34m\u001b[0m\u001b[0m\n\u001b[1;32m   1218\u001b[0m                 \u001b[0;31m# re-raise KeyboardInterrupt, to truncate traceback\u001b[0m\u001b[0;34m\u001b[0m\u001b[0;34m\u001b[0m\u001b[0m\n\u001b[0;32m-> 1219\u001b[0;31m                 \u001b[0;32mraise\u001b[0m \u001b[0mKeyboardInterrupt\u001b[0m\u001b[0;34m(\u001b[0m\u001b[0;34m\"Interrupted by user\"\u001b[0m\u001b[0;34m)\u001b[0m \u001b[0;32mfrom\u001b[0m \u001b[0;32mNone\u001b[0m\u001b[0;34m\u001b[0m\u001b[0;34m\u001b[0m\u001b[0m\n\u001b[0m\u001b[1;32m   1220\u001b[0m             \u001b[0;32mexcept\u001b[0m \u001b[0mException\u001b[0m\u001b[0;34m:\u001b[0m\u001b[0;34m\u001b[0m\u001b[0;34m\u001b[0m\u001b[0m\n\u001b[1;32m   1221\u001b[0m                 \u001b[0mself\u001b[0m\u001b[0;34m.\u001b[0m\u001b[0mlog\u001b[0m\u001b[0;34m.\u001b[0m\u001b[0mwarning\u001b[0m\u001b[0;34m(\u001b[0m\u001b[0;34m\"Invalid Message:\"\u001b[0m\u001b[0;34m,\u001b[0m \u001b[0mexc_info\u001b[0m\u001b[0;34m=\u001b[0m\u001b[0;32mTrue\u001b[0m\u001b[0;34m)\u001b[0m\u001b[0;34m\u001b[0m\u001b[0;34m\u001b[0m\u001b[0m\n",
            "\u001b[0;31mKeyboardInterrupt\u001b[0m: Interrupted by user"
          ]
        }
      ]
    },
    {
      "cell_type": "markdown",
      "source": [
        "# questao 21\n"
      ],
      "metadata": {
        "id": "dfRXbkLGL9n7"
      }
    },
    {
      "cell_type": "code",
      "source": [
        "cidades = []\n",
        "for i in range(6):\n",
        "  while True:\n",
        "      cidade = input(f\"digite o nome da {i + 1} cidade \").strip().title()\n",
        "      if cidade in cidades:\n",
        "          print(\"essa cidade ja esta cadastrada tente novamente\")\n",
        "          continue\n",
        "      else:\n",
        "          cidades.append(cidade)\n",
        "          break\n",
        "\n",
        "for i in range(len(cidades)):\n",
        "    opcao = input(f\"Deseja retirar e adicionar algo ao nome de '{cidades[i]}'? (S/N): \").strip().upper()\n",
        "    if opcao == \"S\":\n",
        "        extra = input(\"Digite o que deseja adicionar: \").strip()\n",
        "        cidades[i] = cidades[i] + \" \" + extra\n",
        "\n",
        "print(\"cidades cadastradas (após a adiçao ):\", cidades)\n",
        "\n",
        "\n",
        "cidade_maior = max(cidades, key=len)\n",
        "for cidade in cidade:\n",
        "    if len(cidade) > len(cidade_maior):\n",
        "       cidade_maior = cidade\n",
        "\n",
        "print(f\"\\nA cidade com o nome maior e: {cidade_maior}\")"
      ],
      "metadata": {
        "colab": {
          "base_uri": "https://localhost:8080/"
        },
        "id": "fV8Rc9o1ijY0",
        "outputId": "b38d0959-1a9b-4425-dd85-a8c601564844"
      },
      "execution_count": null,
      "outputs": [
        {
          "output_type": "stream",
          "name": "stdout",
          "text": [
            "digite o nome da 1 cidade da\n",
            "digite o nome da 2 cidade fe\n",
            "digite o nome da 3 cidade gt\n",
            "digite o nome da 4 cidade ga\n",
            "digite o nome da 5 cidade bf\n",
            "digite o nome da 6 cidade sao caetano\n",
            "Deseja retirar e adicionar algo ao nome de 'Da'? (S/N): n\n",
            "Deseja retirar e adicionar algo ao nome de 'Fe'? (S/N): n\n",
            "Deseja retirar e adicionar algo ao nome de 'Gt'? (S/N): n\n",
            "Deseja retirar e adicionar algo ao nome de 'Ga'? (S/N): n\n",
            "Deseja retirar e adicionar algo ao nome de 'Bf'? (S/N): n\n",
            "Deseja retirar e adicionar algo ao nome de 'Sao Caetano'? (S/N): n\n",
            "cidades cadastradas (após a adiçao ): ['Da', 'Fe', 'Gt', 'Ga', 'Bf', 'Sao Caetano']\n",
            "\n",
            "A cidade com o nome maior e: Sao Caetano\n"
          ]
        }
      ]
    },
    {
      "cell_type": "markdown",
      "source": [
        "# questao 22\n"
      ],
      "metadata": {
        "id": "Yr1Zf1NNoKTM"
      }
    },
    {
      "cell_type": "code",
      "source": [
        "letra = input(\"qual letra deseja colocar\")\n",
        "if len(letra) != 1 or not letra.isalpha():\n",
        "  print(\"coloque apenas uma letra\")\n",
        "else:\n",
        "  if letra.lower() in \"aeiou\":\n",
        "     print(f\"A letra '{letra.upper()}' é uma vogal.\")\n",
        "  else:\n",
        "      print(f\"A letra '{letra.upper()}' é uma consoante.\")"
      ],
      "metadata": {
        "colab": {
          "base_uri": "https://localhost:8080/"
        },
        "id": "YUmadFPZoLyT",
        "outputId": "f8e6cc9e-bad2-4ffb-f8f0-368203dcc4e6"
      },
      "execution_count": null,
      "outputs": [
        {
          "output_type": "stream",
          "name": "stdout",
          "text": [
            "qual letra deseja colocara\n",
            "A letra 'A' é uma vogal.\n"
          ]
        }
      ]
    },
    {
      "cell_type": "markdown",
      "source": [
        "# questao 23\n"
      ],
      "metadata": {
        "id": "ZOu9gJSMpG_z"
      }
    },
    {
      "cell_type": "code",
      "source": [
        "nota_1 = float(input(\"qual foi sua 1 nota \"))\n",
        "nota_2 = float(input(\"qual foi sua 2 nota \"))\n",
        "media = (nota_1 + nota_2) / 2\n",
        "if media < 6:\n",
        "  print(\"voce foi reprovado\")\n",
        "elif media == 10:\n",
        "  print(\"voce foi Aprovado com Distinção \")\n",
        "else:\n",
        "  print(\"voce foi aprovado\")"
      ],
      "metadata": {
        "colab": {
          "base_uri": "https://localhost:8080/"
        },
        "id": "FoJSqpJepJB7",
        "outputId": "7db1c8a8-29e8-4a28-bd83-e8d8fedd2c73"
      },
      "execution_count": null,
      "outputs": [
        {
          "output_type": "stream",
          "name": "stdout",
          "text": [
            "qual foi sua 1 nota 10\n",
            "qual foi sua 2 nota 10\n",
            "voce foi Aprovado com Distinção \n"
          ]
        }
      ]
    },
    {
      "cell_type": "markdown",
      "source": [
        "# questao 24"
      ],
      "metadata": {
        "id": "5FdjsfLVtVdt"
      }
    },
    {
      "cell_type": "code",
      "source": [
        "P_1 = input(\"escreva uma palavra \")\n",
        "P_2 = input(\"escreva uma 2  palavra \")\n",
        "P_3 = input(\"escreva uma 3 palavra \")\n",
        "\n",
        "\n",
        "maior_palavra = \"\"\n",
        "if len(P_1) >= len(P_2) and len(P_1) >= len(P_3):\n",
        "  maior_palavra = P_1\n",
        "elif len(P_2) >= len(P_1) and len(P_2) >= len(P_3):\n",
        "  maior_palavra = P_2\n",
        "else:\n",
        "  maior_palavra = P_3\n",
        "  Quantidade = len(maior_palavra)\n",
        "  print(f\"a maior palavra e {maior_palavra} e a o numero de caracteres {Quantidade}\")"
      ],
      "metadata": {
        "colab": {
          "base_uri": "https://localhost:8080/"
        },
        "id": "M4fbTCLCtYXj",
        "outputId": "02e6f733-04a9-4725-c883-01f6ccca9b4e"
      },
      "execution_count": null,
      "outputs": [
        {
          "output_type": "stream",
          "name": "stdout",
          "text": [
            "escreva uma palavrasal\n",
            "escreva uma 2  palavrasalinha\n",
            "escreva uma 3 palavramonicaelza\n",
            "a maior palavra e monicaelza e a o numero de caracteres 10\n"
          ]
        }
      ]
    },
    {
      "cell_type": "markdown",
      "source": [
        "# questao 25"
      ],
      "metadata": {
        "id": "NSe0FACru3QU"
      }
    },
    {
      "cell_type": "code",
      "source": [
        "n_1 = float(input(\"ecolha um numero \"))\n",
        "n_2 = float(input(\"ecolha um 2 numero \"))\n",
        "n_3 = float(input(\"ecolha um 3  numero \"))\n",
        "\n",
        "maior_numero = 0\n",
        "if n_1 >= n_2 and n_1 >= n_3:\n",
        "  maior_numero = n_1\n",
        "elif n_2 >= n_1 and n_2 >= n_3:\n",
        "  maior_numero = n_2\n",
        "else:\n",
        "  maior_numero = n_3\n",
        "\n",
        "print(f\"o maior numero foi {maior_numero}\")"
      ],
      "metadata": {
        "colab": {
          "base_uri": "https://localhost:8080/"
        },
        "id": "6lJ-XLiEu5-D",
        "outputId": "26e1a69b-fb62-4aa3-f8ea-2b3a97b4c46f"
      },
      "execution_count": null,
      "outputs": [
        {
          "output_type": "stream",
          "name": "stdout",
          "text": [
            "ecolha um numero 10\n",
            "ecolha um 2 numero 20\n",
            "ecolha um 3  numero 40\n",
            "o maior numero foi 40.0\n"
          ]
        }
      ]
    },
    {
      "cell_type": "markdown",
      "source": [
        "# questao 26"
      ],
      "metadata": {
        "id": "dm2DjGTRwlnu"
      }
    },
    {
      "cell_type": "code",
      "source": [
        "P_1 = float(input(\"qual o valor do produto que deseja comprar na 1 loja \"))\n",
        "P_2 = float(input(\"qual o valor do produto que deseja comprar na 2 loja \"))\n",
        "P_3 = float(input(\"qual o valor do produto que deseja comprar na 3 loja \"))\n",
        "\n",
        "menor_preço = 0\n",
        "if P_1 <= P_2 and P_1 <= P_3:\n",
        "  menor_preço = P_1\n",
        "elif P_2 <= P_1 and P_2 <= P_3:\n",
        "  menor_preço = P_2\n",
        "else:\n",
        "  menor_preço = P_3\n",
        "print(f\"menor preço do produto e {menor_preço}\")"
      ],
      "metadata": {
        "colab": {
          "base_uri": "https://localhost:8080/"
        },
        "id": "1I3tw0Upwnu6",
        "outputId": "afc854ef-0f84-468b-b019-7ca554712fc5"
      },
      "execution_count": null,
      "outputs": [
        {
          "output_type": "stream",
          "name": "stdout",
          "text": [
            "qual o valor do produto que deseja comprar na 1 loja 1500\n",
            "qual o valor do produto que deseja comprar na 2 loja 2000\n",
            "qual o valor do produto que deseja comprar na 3 loja 3000\n",
            "menor preço do produto e 1500.0\n"
          ]
        }
      ]
    },
    {
      "cell_type": "markdown",
      "source": [
        "# questao 27\n"
      ],
      "metadata": {
        "id": "wxsvMH5Ly4Da"
      }
    },
    {
      "cell_type": "code",
      "source": [
        "n_1 = float(input(\"escolha um numero \"))\n",
        "n_2 = float(input(\"escolha um 2 numero \"))\n",
        "n_3 = float(input(\"escolha um 3  numero \"))\n",
        "\n",
        "numeros = [n_1, n_2, n_3]\n",
        "numeros.sort(reverse=True)\n",
        "\n",
        "print(f\"a ordem decrescente dos numeros é: {numeros}\")"
      ],
      "metadata": {
        "colab": {
          "base_uri": "https://localhost:8080/"
        },
        "id": "J6bJse-Dy6Dy",
        "outputId": "3e0c5511-ee11-4c61-929d-0f276930c4e8"
      },
      "execution_count": null,
      "outputs": [
        {
          "output_type": "stream",
          "name": "stdout",
          "text": [
            "escolha um numero 5\n",
            "escolha um 2 numero 4\n",
            "escolha um 3  numero 7\n",
            "a ordem decrescente dos numeros é: [7.0, 5.0, 4.0]\n"
          ]
        }
      ]
    },
    {
      "cell_type": "markdown",
      "source": [
        "# questao 28"
      ],
      "metadata": {
        "id": "4lNZGrPv8HIw"
      }
    },
    {
      "cell_type": "code",
      "source": [
        "print(\"responda apenas com M-matutino ou V-Vespertino ou N-Noturno \")\n",
        "R = input(\"qual e e o seu turno\")\n",
        "if R == 'M':\n",
        "  print(\"bom dia\")\n",
        "elif R == 'V':\n",
        "  print(\"boa tarde\")\n",
        "elif R == 'N':\n",
        "  print(\"boa noite\")\n",
        "else:\n",
        "    print(\"valor invalido\")"
      ],
      "metadata": {
        "id": "5YMSObzrMnb3"
      },
      "execution_count": null,
      "outputs": []
    },
    {
      "cell_type": "markdown",
      "source": [
        "# questao 29"
      ],
      "metadata": {
        "id": "Tp23uYOGMhe4"
      }
    },
    {
      "cell_type": "code",
      "source": [
        "salario_a = float(input(\"digite o salario atual do : \"))\n",
        "\n",
        "percentual_aumento = 0\n",
        "if salario_a <= 280:\n",
        "  aumento = 20\n",
        "elif salario_a<= 700:\n",
        "   aumento = 15\n",
        "elif salario_a <= 1500:\n",
        "    aumento = 10\n",
        "else:\n",
        "    aumento = 5\n",
        "\n",
        "aumento = salario_a * (aumento / 100)\n",
        "salario = salario_a + aumento\n",
        "\n",
        "print(f\"salario antes da mudança: R$ {salario_a:.2f}\")\n",
        "print(f\"percentual de aumento aplicado: {aumento}%\")\n",
        "print(f\"valor do aumento: R$ {aumento:.2f}\")\n",
        "print(f\"novo salário depois do aumento: R$ {salario:.2f}\")"
      ],
      "metadata": {
        "colab": {
          "base_uri": "https://localhost:8080/"
        },
        "id": "tcFJnjUEMk2e",
        "outputId": "18232db5-570d-42b9-cded-065a4ca900d0"
      },
      "execution_count": 2,
      "outputs": [
        {
          "output_type": "stream",
          "name": "stdout",
          "text": [
            "digite o salario atual do : 1500\n",
            "Salário antes do reajuste: R$ 1500.00\n",
            "Percentual de aumento aplicado: 150.0%\n",
            "Valor do aumento: R$ 150.00\n",
            "Novo salário após o aumento: R$ 1650.00\n"
          ]
        }
      ]
    },
    {
      "cell_type": "code",
      "source": [],
      "metadata": {
        "id": "nBruMGrnN51P"
      },
      "execution_count": null,
      "outputs": []
    },
    {
      "cell_type": "markdown",
      "source": [
        "# questao 31"
      ],
      "metadata": {
        "id": "nzbdTnu8OC_2"
      }
    },
    {
      "cell_type": "code",
      "source": [
        "H = float(input(\" digige o valor da sua hora trabalhada: \"))\n",
        "horas_traba = float(input(\"digite a quantidade  de horas trabalhadas no mês: \"))\n",
        "\n",
        "salario_B = H * horas_traba\n",
        "\n",
        "ir = 0\n",
        "if salario_B > 900 and salario_B <= 1500:\n",
        "    ir = salario_B * 0.05\n",
        "elif salario_B > 1500 and salario_B <= 2500:\n",
        "    ir = salario_B * 0.10\n",
        "elif salario_B > 2500:\n",
        "    ir = salario_B * 0.20\n",
        "\n",
        "sindicato = salario_B * 0.03\n",
        "fgts = salario_B * 0.11\n",
        "salario_liquido = salario_B - ir - sindicato\n",
        "\n",
        "print(f\"\\nsalario bruto: ({H:.2f} * {horas_traba:.2f}): \\t\\t R$ {salario_B:.2f}\")\n",
        "print(f\"(-) IR ({ir/salario_B*100 if salario_B > 0 else 0:.0f}%): \\t\\t\\t\\t R$ {ir:.2f}\")\n",
        "print(f\"(-) sindicato (3%): \\t\\t\\t R$ {sindicato:.2f}\")\n",
        "print(f\"fgts (11%): \\t\\t\\t\\t R$ {fgts:.2f}\")\n",
        "print(f\"total de descontos: \\t\\t R$ {ir + sindicato:.2f}\")\n",
        "print(f\"salario liquido: \\t\\t\\t R$ {salario_liquido:.2f}\")"
      ],
      "metadata": {
        "colab": {
          "base_uri": "https://localhost:8080/"
        },
        "id": "Gmfd4pttOE7O",
        "outputId": "d207f09d-31a4-434b-a89c-2c5eb2fc116c"
      },
      "execution_count": 3,
      "outputs": [
        {
          "output_type": "stream",
          "name": "stdout",
          "text": [
            " digige o valor da sua hora trabalhada: 80\n",
            "digite a quantidade  de horas trabalhadas no mês: 1500\n",
            "\n",
            "salario bruto: (80.00 * 1500.00): \t\t R$ 120000.00\n",
            "(-) IR (20%): \t\t\t\t R$ 24000.00\n",
            "(-) sindicato (3%): \t\t\t R$ 3600.00\n",
            "fgts (11%): \t\t\t\t R$ 13200.00\n",
            "total de descontos: \t\t R$ 27600.00\n",
            "salario liquido: \t\t\t R$ 92400.00\n"
          ]
        }
      ]
    },
    {
      "cell_type": "markdown",
      "source": [
        "# questao 32"
      ],
      "metadata": {
        "id": "Wr9bhjYt-Bsu"
      }
    },
    {
      "cell_type": "code",
      "metadata": {
        "colab": {
          "base_uri": "https://localhost:8080/"
        },
        "id": "787d1e21",
        "outputId": "ea95fd72-8ce9-430e-8dfb-6c8e9caa4508"
      },
      "source": [
        "print(\"Responda 's' para sim e 'N' para não para as perguntas que vou pedir:\")\n",
        "\n",
        "respostas = []\n",
        "perguntas = [\n",
        "    \"Telefonou para a vítima?\",\n",
        "    \"Esteve no local do crime?\",\n",
        "    \"Mora perto da vítima?\",\n",
        "    \"Devia para a vítima?\",\n",
        "    \"Já trabalhou com a vítima?\"\n",
        "]\n",
        "\n",
        "for pergunta in perguntas:\n",
        "    while True:\n",
        "        resposta = input(pergunta + \" (S/N): \").strip().upper()\n",
        "        if resposta in [\"S\", \"N\"]:\n",
        "            respostas.append(resposta)\n",
        "            break\n",
        "        else:\n",
        "            print(\"Resposta inválida. Por favor, responda apenas com 'S' ou 'N'.\")\n",
        "\n",
        "Quantidade = respostas.count(\"S\")\n",
        "\n",
        "if Quantidade == 2:\n",
        "    ele_e = \"Suspeita\"\n",
        "elif Quantidade >= 3 and Quantidade <= 4:\n",
        "    ele_e = \"Cúmplice\"\n",
        "elif Quantidade == 5:\n",
        "    ele_e  = \"Assassino\"\n",
        "else:\n",
        "    ele_e = \"Inocente\"\n",
        "\n",
        "print(f\"\\nClassificação: {ele_e}\")"
      ],
      "execution_count": null,
      "outputs": [
        {
          "output_type": "stream",
          "name": "stdout",
          "text": [
            "Responda 's' para sim e 'N' para não para as perguntas que vou pedir:\n",
            "Telefonou para a vítima? (S/N): n\n",
            "Esteve no local do crime? (S/N): s\n",
            "Mora perto da vítima? (S/N): s\n",
            "Devia para a vítima? (S/N): s\n",
            "Já trabalhou com a vítima? (S/N): n\n",
            "\n",
            "Classificação: Cúmplice\n"
          ]
        }
      ]
    },
    {
      "cell_type": "markdown",
      "source": [
        "# questao 33"
      ],
      "metadata": {
        "id": "H5De0KtNJugU"
      }
    },
    {
      "cell_type": "code",
      "source": [
        "lista_alunos = []\n",
        "\n",
        "for i in range(2):\n",
        "    print(f\"\\n--- Cadastro do {i+1}º aluno ---\")\n",
        "    matricula = input(\"Matrícula: \").strip()\n",
        "    nome = input(\"Nome: \").strip()\n",
        "    n_1 = float(input(\"Nota 1: \"))\n",
        "    n_2 = float(input(\"Nota 2: \"))\n",
        "    media = (n_1 + n_2) / 2\n",
        "\n",
        "    aluno = {\n",
        "        \"matricula\": matricula,\n",
        "        \"nome\": nome,\n",
        "        \"media\": media\n",
        "    }\n",
        "\n",
        "    lista_alunos.append(aluno)\n",
        "for aluno in lista_alunos:\n",
        "    print(f\"Matrícula: {aluno['matricula']} | Nome: {aluno['nome']} | Média: {aluno['media']:.2f}\")"
      ],
      "metadata": {
        "colab": {
          "base_uri": "https://localhost:8080/"
        },
        "id": "VuZ07gSlJy68",
        "outputId": "6f412bb3-e892-4071-ddbb-93c0ae13bf72"
      },
      "execution_count": null,
      "outputs": [
        {
          "output_type": "stream",
          "name": "stdout",
          "text": [
            "\n",
            "--- Cadastro do 1º aluno ---\n",
            "Matrícula: 1234\n",
            "Nome: dario\n",
            "Nota 1: 10\n",
            "Nota 2: 4\n",
            "\n",
            "--- Cadastro do 2º aluno ---\n",
            "Matrícula: 6165165\n",
            "Nome: neto\n",
            "Nota 1: 10\n",
            "Nota 2: 0\n",
            "Matrícula: 1234 | Nome: dario | Média: 7.00\n",
            "Matrícula: 6165165 | Nome: neto | Média: 5.00\n"
          ]
        }
      ]
    },
    {
      "cell_type": "markdown",
      "source": [
        "# questao 34"
      ],
      "metadata": {
        "id": "eb30IzM1Pefg"
      }
    },
    {
      "cell_type": "code",
      "source": [
        "def calcular_imc(peso, altura):\n",
        "    \"\"\"Calcula o Índice de Massa Corporal (IMC).\"\"\"\n",
        "    if altura > 0:\n",
        "        return peso / (altura ** 2)\n",
        "    else:\n",
        "        return None\n",
        "def cadastrar_pessoa(pessoas):\n",
        "    \"\"\"Cadastra os dados de uma pessoa.\"\"\"\n",
        "    print(\"\\n--- Cadastro de Nova Pessoa ---\")\n",
        "    nome = input(\"Nome: \").strip()\n",
        "    altura = float(input(\"Altura (em metros): \"))\n",
        "    peso = float(input(\"Peso (em kg): \"))\n",
        "    cpf = input(\"CPF: \").strip()\n",
        "    sexo = input(\"Sexo: \").strip()\n",
        "\n",
        "    pessoa = {\n",
        "        \"nome\": nome,\n",
        "        \"altura\": altura,\n",
        "        \"peso\": peso,\n",
        "        \"cpf\": cpf,\n",
        "        \"sexo\": sexo\n",
        "    }\n",
        "    pessoas.append(pessoa)\n",
        "    print(\"Pessoa cadastrada com sucesso!\")\n",
        "\n",
        "def buscar_por_cpf(pessoas, cpf_busca):\n",
        "    \"\"\"Busca uma pessoa pelo CPF e imprime seus dados e IMC.\"\"\"\n",
        "    for pessoa in pessoas:\n",
        "        if pessoa[\"cpf\"] == cpf_busca:\n",
        "            print(\"\\n--- Dados da Pessoa Encontrada ---\")\n",
        "            print(f\"Nome: {pessoa['nome']}\")\n",
        "            print(f\"Altura: {pessoa['altura']} m\")\n",
        "            print(f\"Peso: {pessoa['peso']} kg\")\n",
        "            print(f\"CPF: {pessoa['cpf']}\")\n",
        "            print(f\"Sexo: {pessoa['sexo']}\")\n",
        "            imc = calcular_imc(pessoa['peso'], pessoa['altura'])\n",
        "            if imc is not None:\n",
        "                print(f\"IMC: {imc:.2f}\")\n",
        "            else:\n",
        "                print(\"Não foi possível calcular o IMC (altura inválida).\")\n",
        "            return\n",
        "    print(f\"\\nPessoa com CPF {cpf_busca} não encontrada.\")\n",
        "\n",
        "\n",
        "lista_pessoas = []\n",
        "\n",
        "\n",
        "while True:\n",
        "    print(\"\\n--- Menu ---\")\n",
        "    print(\"1. Cadastrar nova pessoa\")\n",
        "    print(\"2. Buscar pessoa por CPF\")\n",
        "    print(\"3. Sair\")\n",
        "\n",
        "    opcao = input(\"escolha uma opção: \").strip()\n",
        "\n",
        "    if opcao == \"1\":\n",
        "        cadastrar_pessoa(lista_pessoas)\n",
        "    elif opcao == \"2\":\n",
        "        cpf_busca = input(\"digite o CPF da pessoa que deseja buscar: \").strip()\n",
        "        buscar_por_cpf(lista_pessoas, cpf_busca)\n",
        "    elif opcao == \"3\":\n",
        "        print(\"Encerrando o programa.\")\n",
        "        break\n",
        "    else:\n",
        "        print(\"Opçao invalida. tente de novo.\")"
      ],
      "metadata": {
        "colab": {
          "base_uri": "https://localhost:8080/",
          "height": 443
        },
        "id": "64FvLczyPn3G",
        "outputId": "0319e198-4a9f-4e6f-f551-1e306e440bd4"
      },
      "execution_count": 11,
      "outputs": [
        {
          "output_type": "stream",
          "name": "stdout",
          "text": [
            "\n",
            "--- Menu ---\n",
            "1. Cadastrar nova pessoa\n",
            "2. Buscar pessoa por CPF\n",
            "3. Sair\n"
          ]
        },
        {
          "output_type": "error",
          "ename": "KeyboardInterrupt",
          "evalue": "Interrupted by user",
          "traceback": [
            "\u001b[0;31m---------------------------------------------------------------------------\u001b[0m",
            "\u001b[0;31mKeyboardInterrupt\u001b[0m                         Traceback (most recent call last)",
            "\u001b[0;32m/tmp/ipython-input-128649145.py\u001b[0m in \u001b[0;36m<cell line: 0>\u001b[0;34m()\u001b[0m\n\u001b[1;32m     52\u001b[0m     \u001b[0mprint\u001b[0m\u001b[0;34m(\u001b[0m\u001b[0;34m\"3. Sair\"\u001b[0m\u001b[0;34m)\u001b[0m\u001b[0;34m\u001b[0m\u001b[0;34m\u001b[0m\u001b[0m\n\u001b[1;32m     53\u001b[0m \u001b[0;34m\u001b[0m\u001b[0m\n\u001b[0;32m---> 54\u001b[0;31m     \u001b[0mopcao\u001b[0m \u001b[0;34m=\u001b[0m \u001b[0minput\u001b[0m\u001b[0;34m(\u001b[0m\u001b[0;34m\"escolha uma opção: \"\u001b[0m\u001b[0;34m)\u001b[0m\u001b[0;34m.\u001b[0m\u001b[0mstrip\u001b[0m\u001b[0;34m(\u001b[0m\u001b[0;34m)\u001b[0m\u001b[0;34m\u001b[0m\u001b[0;34m\u001b[0m\u001b[0m\n\u001b[0m\u001b[1;32m     55\u001b[0m \u001b[0;34m\u001b[0m\u001b[0m\n\u001b[1;32m     56\u001b[0m     \u001b[0;32mif\u001b[0m \u001b[0mopcao\u001b[0m \u001b[0;34m==\u001b[0m \u001b[0;34m\"1\"\u001b[0m\u001b[0;34m:\u001b[0m\u001b[0;34m\u001b[0m\u001b[0;34m\u001b[0m\u001b[0m\n",
            "\u001b[0;32m/usr/local/lib/python3.12/dist-packages/ipykernel/kernelbase.py\u001b[0m in \u001b[0;36mraw_input\u001b[0;34m(self, prompt)\u001b[0m\n\u001b[1;32m   1175\u001b[0m                 \u001b[0;34m\"raw_input was called, but this frontend does not support input requests.\"\u001b[0m\u001b[0;34m\u001b[0m\u001b[0;34m\u001b[0m\u001b[0m\n\u001b[1;32m   1176\u001b[0m             )\n\u001b[0;32m-> 1177\u001b[0;31m         return self._input_request(\n\u001b[0m\u001b[1;32m   1178\u001b[0m             \u001b[0mstr\u001b[0m\u001b[0;34m(\u001b[0m\u001b[0mprompt\u001b[0m\u001b[0;34m)\u001b[0m\u001b[0;34m,\u001b[0m\u001b[0;34m\u001b[0m\u001b[0;34m\u001b[0m\u001b[0m\n\u001b[1;32m   1179\u001b[0m             \u001b[0mself\u001b[0m\u001b[0;34m.\u001b[0m\u001b[0m_parent_ident\u001b[0m\u001b[0;34m[\u001b[0m\u001b[0;34m\"shell\"\u001b[0m\u001b[0;34m]\u001b[0m\u001b[0;34m,\u001b[0m\u001b[0;34m\u001b[0m\u001b[0;34m\u001b[0m\u001b[0m\n",
            "\u001b[0;32m/usr/local/lib/python3.12/dist-packages/ipykernel/kernelbase.py\u001b[0m in \u001b[0;36m_input_request\u001b[0;34m(self, prompt, ident, parent, password)\u001b[0m\n\u001b[1;32m   1217\u001b[0m             \u001b[0;32mexcept\u001b[0m \u001b[0mKeyboardInterrupt\u001b[0m\u001b[0;34m:\u001b[0m\u001b[0;34m\u001b[0m\u001b[0;34m\u001b[0m\u001b[0m\n\u001b[1;32m   1218\u001b[0m                 \u001b[0;31m# re-raise KeyboardInterrupt, to truncate traceback\u001b[0m\u001b[0;34m\u001b[0m\u001b[0;34m\u001b[0m\u001b[0m\n\u001b[0;32m-> 1219\u001b[0;31m                 \u001b[0;32mraise\u001b[0m \u001b[0mKeyboardInterrupt\u001b[0m\u001b[0;34m(\u001b[0m\u001b[0;34m\"Interrupted by user\"\u001b[0m\u001b[0;34m)\u001b[0m \u001b[0;32mfrom\u001b[0m \u001b[0;32mNone\u001b[0m\u001b[0;34m\u001b[0m\u001b[0;34m\u001b[0m\u001b[0m\n\u001b[0m\u001b[1;32m   1220\u001b[0m             \u001b[0;32mexcept\u001b[0m \u001b[0mException\u001b[0m\u001b[0;34m:\u001b[0m\u001b[0;34m\u001b[0m\u001b[0;34m\u001b[0m\u001b[0m\n\u001b[1;32m   1221\u001b[0m                 \u001b[0mself\u001b[0m\u001b[0;34m.\u001b[0m\u001b[0mlog\u001b[0m\u001b[0;34m.\u001b[0m\u001b[0mwarning\u001b[0m\u001b[0;34m(\u001b[0m\u001b[0;34m\"Invalid Message:\"\u001b[0m\u001b[0;34m,\u001b[0m \u001b[0mexc_info\u001b[0m\u001b[0;34m=\u001b[0m\u001b[0;32mTrue\u001b[0m\u001b[0;34m)\u001b[0m\u001b[0;34m\u001b[0m\u001b[0;34m\u001b[0m\u001b[0m\n",
            "\u001b[0;31mKeyboardInterrupt\u001b[0m: Interrupted by user"
          ]
        }
      ]
    }
  ]
}